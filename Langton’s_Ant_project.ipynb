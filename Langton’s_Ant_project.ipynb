{
  "nbformat": 4,
  "nbformat_minor": 0,
  "metadata": {
    "colab": {
      "provenance": [],
      "authorship_tag": "ABX9TyNcKgvMxisDe/xvKEIpeiFT"
    },
    "kernelspec": {
      "name": "python3",
      "display_name": "Python 3"
    },
    "language_info": {
      "name": "python"
    }
  },
  "cells": [
    {
      "cell_type": "markdown",
      "source": [
        "Project 2/\n",
        "Parsa Mojgan/\n",
        "April 9, 2024\n",
        "\n",
        "The following is the code provided for the Langton’s Ant project."
      ],
      "metadata": {
        "id": "cgGcDyS0VPYV"
      }
    },
    {
      "cell_type": "code",
      "source": [
        "\n",
        "import numpy as np\n",
        "import matplotlib.pyplot as plt\n",
        "from matplotlib.animation import FuncAnimation\n",
        "import timeit\n",
        "class Ant2D:\n",
        "    def __init__(self, width, height):\n",
        "        self.width = width\n",
        "        self.height = height\n",
        "        self.grid = np.zeros((height, width), dtype=int)\n",
        "        self.ant_pos = [height // 2, width // 2]  # Start at the center\n",
        "        self.direction = 0\n",
        "        self.pattern = [[0, 0, 1, 0, 0],\n",
        "                        [0, 1, 0, 1, 0],\n",
        "                        [1, 0, 0, 0, 1],\n",
        "                        [0, 1, 0, 1, 0],\n",
        "                        [0, 0, 1, 0, 0]]  # Ant pattern\n",
        "\n",
        "\n",
        "        ant_start_x = self.ant_pos[1] - len(self.pattern) // 2\n",
        "        ant_start_y = self.ant_pos[0] - len(self.pattern) // 2\n",
        "        self.grid[ant_start_y:ant_start_y+len(self.pattern), ant_start_x:ant_start_x+len(self.pattern[0])] = self.pattern\n",
        "\n",
        "    def turn_right(self):\n",
        "        self.direction = (self.direction + 1) % 4\n",
        "\n",
        "    def turn_left(self):\n",
        "        self.direction = (self.direction - 1) % 4\n",
        "\n",
        "    def move(self):\n",
        "        if self.grid[self.ant_pos[0], self.ant_pos[1]] == 0:\n",
        "            self.turn_right()\n",
        "            self.grid[self.ant_pos[0], self.ant_pos[1]] = 1\n",
        "        else:\n",
        "            self.turn_left()\n",
        "            self.grid[self.ant_pos[0], self.ant_pos[1]] = 0\n",
        "\n",
        "        if self.direction == 0:\n",
        "            self.ant_pos[0] = (self.ant_pos[0] - 1) % self.height\n",
        "        elif self.direction == 1:\n",
        "            self.ant_pos[1] = (self.ant_pos[1] + 1) % self.width\n",
        "        elif self.direction == 2:\n",
        "            self.ant_pos[0] = (self.ant_pos[0] + 1) % self.height\n",
        "        elif self.direction == 3:\n",
        "            self.ant_pos[1] = (self.ant_pos[1] - 1) % self.width\n",
        "\n"
      ],
      "metadata": {
        "id": "iQp-EHwyFJwz"
      },
      "execution_count": 56,
      "outputs": []
    },
    {
      "cell_type": "markdown",
      "source": [
        "Above code block implements the Ant2D CA class with methods to initialize the grid, move the ant according to Langton's Ant rules, and update cell states."
      ],
      "metadata": {
        "id": "L6pQ5FSG5wEt"
      }
    },
    {
      "cell_type": "code",
      "source": [
        "\n",
        "def animate(frames):\n",
        "    fig, ax = plt.subplots()\n",
        "    img = ax.imshow(frames[0], cmap='binary')\n",
        "\n",
        "    def update(frame):\n",
        "        ant_grid = frames[frame]\n",
        "        img.set_data(ant_grid)\n",
        "        return img,\n",
        "\n",
        "    ani = FuncAnimation(fig, update, frames=len(frames), interval=50, blit=True)\n",
        "    plt.show()\n",
        "\n",
        "def main():\n",
        "    width = 100\n",
        "    height = 100\n",
        "    steps = 1000\n",
        "\n",
        "    frames = run_simulation(steps, width, height)\n",
        "    animate(frames)\n",
        "\n",
        "if __name__ == \"__main__\":\n",
        "    main()"
      ],
      "metadata": {
        "id": "7BycKvG374rd",
        "colab": {
          "base_uri": "https://localhost:8080/",
          "height": 433
        },
        "outputId": "238519a1-91d0-4041-e29d-53e1a74fdf67"
      },
      "execution_count": 57,
      "outputs": [
        {
          "output_type": "display_data",
          "data": {
            "text/plain": [
              "<Figure size 640x480 with 1 Axes>"
            ],
            "image/png": "[encoded data removed]"
          },
          "metadata": {}
        }
      ]
    },
    {
      "cell_type": "markdown",
      "source": [
        "The run_simulation function generates frames by simulating the ant movement for a certain number of steps.\n",
        "The animate function creates an animation using Matplotlib to visualize the frames.\n",
        "In the main function, we define parameters for the experiment (grid size and number of steps) and call run_simulation and animate to execute the experiment and display the animation.\n",
        "\n"
      ],
      "metadata": {
        "id": "zz2KZtNF7fMo"
      }
    },
    {
      "cell_type": "code",
      "source": [
        "def run_simulation_timing(steps, width, height):\n",
        "    ant = Ant2D(width, height)\n",
        "    for _ in range(steps):\n",
        "        ant.move()\n",
        "\n",
        "def main():\n",
        "    width = 100\n",
        "    height = 100\n",
        "    steps = 1000\n",
        "\n",
        "    # Time the simulation\n",
        "    execution_time = timeit.timeit(lambda: run_simulation_timing(steps, width, height), number=1)\n",
        "    print(\"Execution time:\", execution_time, \"seconds\")\n",
        "\n",
        "if __name__ == \"__main__\":\n",
        "    main()\n"
      ],
      "metadata": {
        "id": "-6c2Cg4k5_Ox",
        "colab": {
          "base_uri": "https://localhost:8080/"
        },
        "outputId": "9c2241bf-4d7a-47be-fc24-e67b004ca4b4"
      },
      "execution_count": 58,
      "outputs": [
        {
          "output_type": "stream",
          "name": "stdout",
          "text": [
            "Execution time: 0.0020264699996914715 seconds\n"
          ]
        }
      ]
    },
    {
      "cell_type": "markdown",
      "source": [
        "Above code block measures the execution time of the simulation using Python's timeit module."
      ],
      "metadata": {
        "id": "BbcLGYC975nS"
      }
    },
    {
      "cell_type": "markdown",
      "source": [
        "What is the Big-O time complexity of the algorithm we are using here to simulate this system, What implications does that have for running larger or longer CA experiments?The algorithm's time complexity is O(n), where n is the number of steps in the simulation. This implies that execution time grows linearly with the number of steps. Running larger or longer CA experiments will result in proportionally longer execution times.\n",
        "\n",
        "\n",
        "Do these improvements change the Big-O time complexity? such optimizations could reduce the multiplicative coefficient (linear improvement) or the constant overhead. While they may not change the Big-O time complexity (which remains O(n)), they can enhance performance for specific scenarios.\n",
        "\n"
      ],
      "metadata": {
        "id": "Bev4v-mhHkuS"
      }
    }
  ]
}